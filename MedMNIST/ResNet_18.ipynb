{
  "nbformat": 4,
  "nbformat_minor": 0,
  "metadata": {
    "colab": {
      "provenance": [],
      "gpuType": "T4"
    },
    "kernelspec": {
      "name": "python3",
      "display_name": "Python 3"
    },
    "language_info": {
      "name": "python"
    },
    "accelerator": "GPU"
  },
  "cells": [
    {
      "cell_type": "code",
      "execution_count": 1,
      "metadata": {
        "colab": {
          "base_uri": "https://localhost:8080/"
        },
        "id": "I27mHZWkyYH5",
        "outputId": "a012e869-07d8-4ecc-9197-992f35a70b6b"
      },
      "outputs": [
        {
          "output_type": "stream",
          "name": "stdout",
          "text": [
            "\u001b[?25l   \u001b[90m━━━━━━━━━━━━━━━━━━━━━━━━━━━━━━━━━━━━━━━━\u001b[0m \u001b[32m0.0/115.9 kB\u001b[0m \u001b[31m?\u001b[0m eta \u001b[36m-:--:--\u001b[0m\r\u001b[2K   \u001b[90m━━━━━━━━━━━━━━━━━━━━━━━━━━━━━━━━━━━━━━━━\u001b[0m \u001b[32m115.9/115.9 kB\u001b[0m \u001b[31m6.6 MB/s\u001b[0m eta \u001b[36m0:00:00\u001b[0m\n",
            "\u001b[?25hSuccessfully imported libraries. Using MedMNIST version: 3.0.2\n",
            "INFO: The data_flag is set to: 'breastmnist'\n"
          ]
        },
        {
          "output_type": "stream",
          "name": "stderr",
          "text": [
            "100%|██████████| 560k/560k [00:01<00:00, 482kB/s]\n",
            "/usr/local/lib/python3.12/dist-packages/torchvision/models/_utils.py:208: UserWarning: The parameter 'pretrained' is deprecated since 0.13 and may be removed in the future, please use 'weights' instead.\n",
            "  warnings.warn(\n",
            "/usr/local/lib/python3.12/dist-packages/torchvision/models/_utils.py:223: UserWarning: Arguments other than a weight enum or `None` for 'weights' are deprecated since 0.13 and may be removed in the future. The current behavior is equivalent to passing `weights=None`.\n",
            "  warnings.warn(msg)\n"
          ]
        },
        {
          "output_type": "stream",
          "name": "stdout",
          "text": [
            "INFO: Datasets and Dataloaders are ready.\n",
            "INFO: ResNet-18 model is defined and moved to device: cuda:0\n",
            "INFO: Starting training for 3 epochs...\n"
          ]
        },
        {
          "output_type": "stream",
          "name": "stderr",
          "text": [
            "Epoch 1/3 [Train]: 100%|██████████| 5/5 [00:01<00:00,  3.27it/s]\n"
          ]
        },
        {
          "output_type": "stream",
          "name": "stdout",
          "text": [
            "Epoch 1/3 - Validation AUC: 0.604, Accuracy: 0.705\n"
          ]
        },
        {
          "output_type": "stream",
          "name": "stderr",
          "text": [
            "Epoch 2/3 [Train]: 100%|██████████| 5/5 [00:00<00:00, 26.44it/s]\n"
          ]
        },
        {
          "output_type": "stream",
          "name": "stdout",
          "text": [
            "Epoch 2/3 - Validation AUC: 0.668, Accuracy: 0.731\n"
          ]
        },
        {
          "output_type": "stream",
          "name": "stderr",
          "text": [
            "Epoch 3/3 [Train]: 100%|██████████| 5/5 [00:00<00:00, 26.53it/s]\n"
          ]
        },
        {
          "output_type": "stream",
          "name": "stdout",
          "text": [
            "Epoch 3/3 - Validation AUC: 0.688, Accuracy: 0.782\n",
            "\n",
            "INFO: Training complete!\n",
            "INFO: Evaluating model on the final test set...\n"
          ]
        },
        {
          "output_type": "stream",
          "name": "stderr",
          "text": [
            "[Test]: 100%|██████████| 2/2 [00:00<00:00, 35.74it/s]"
          ]
        },
        {
          "output_type": "stream",
          "name": "stdout",
          "text": [
            "------------------------------\n",
            "Final Test Results for ResNet-18:\n",
            "Test AUC: 0.708\n",
            "Test Accuracy: 0.744\n",
            "------------------------------\n"
          ]
        },
        {
          "output_type": "stream",
          "name": "stderr",
          "text": [
            "\n"
          ]
        }
      ],
      "source": [
        "# --- 1. Install and Import ---\n",
        "# We run the installation quietly with `-q`\n",
        "!pip install -q medmnist\n",
        "\n",
        "import numpy as np\n",
        "import torch\n",
        "import torch.nn as nn\n",
        "import torch.optim as optim\n",
        "from torch.utils.data import DataLoader\n",
        "import torchvision.transforms as transforms\n",
        "from torchvision.models import resnet18\n",
        "import medmnist\n",
        "from medmnist import INFO, Evaluator\n",
        "from tqdm import tqdm\n",
        "\n",
        "print(f\"Successfully imported libraries. Using MedMNIST version: {medmnist.__version__}\")\n",
        "\n",
        "# in the old style, I would use \"print(\"Successfully imported libraries. Using MedMNIST version: %s\" % (medmnist.__version__))\"\n",
        "\n",
        "# --- 2. Setup Dataset and Dataloaders ---\n",
        "\n",
        "data_flag = 'breastmnist'\n",
        "print(f\"INFO: The data_flag is set to: '{data_flag}'\") # Debug print\n",
        "\n",
        "BATCH_SIZE = 128\n",
        "download = True\n",
        "\n",
        "# Get dataset information from the medmnist library\n",
        "info = INFO[data_flag]\n",
        "n_channels = info['n_channels']\n",
        "n_classes = len(info['label'])\n",
        "DataClass = getattr(medmnist, info['python_class'])\n",
        "\n",
        "# Define transformations to apply to the images\n",
        "data_transform = transforms.Compose([\n",
        "    transforms.ToTensor(),\n",
        "    transforms.Normalize(mean=[.5], std=[.5])\n",
        "])\n",
        "\n",
        "# Load the datasets using the predefined splits and apply the transformations\n",
        "train_dataset = DataClass(split='train', transform=data_transform, download=download)\n",
        "val_dataset = DataClass(split='val', transform=data_transform, download=download)\n",
        "test_dataset = DataClass(split='test', transform=data_transform, download=download)\n",
        "\n",
        "# Create DataLoaders to handle batching and shuffling\n",
        "train_loader = DataLoader(dataset=train_dataset, batch_size=BATCH_SIZE, shuffle=True)\n",
        "val_loader = DataLoader(dataset=val_dataset, batch_size=BATCH_SIZE, shuffle=False)\n",
        "test_loader = DataLoader(dataset=test_dataset, batch_size=BATCH_SIZE, shuffle=False)\n",
        "\n",
        "print(\"INFO: Datasets and Dataloaders are ready.\")\n",
        "\n",
        "# --- 3. Define and Prepare the Model ---\n",
        "# Use ResNet-18 and train from scratch (pretrained=False)\n",
        "model = resnet18(pretrained=False)\n",
        "\n",
        "# Adjust the model for our specific dataset (1-channel grayscale images)\n",
        "model.conv1 = nn.Conv2d(n_channels, 64, kernel_size=(7, 7), stride=(2, 2), padding=(3, 3), bias=False)\n",
        "# Adjust the final layer for our number of classes (2 for BreastMNIST)\n",
        "model.fc = nn.Linear(model.fc.in_features, n_classes)\n",
        "\n",
        "# Move the model to the GPU if one is available\n",
        "device = torch.device(\"cuda:0\" if torch.cuda.is_available() else \"cpu\")\n",
        "model.to(device)\n",
        "\n",
        "print(f\"INFO: ResNet-18 model is defined and moved to device: {device}\")\n",
        "\n",
        "# --- 4. Define Loss, Optimizer, and Training Parameters ---\n",
        "NUM_EPOCHS = 3 # Set to a low number for a quick test. Increase to 100 for full replication.\n",
        "criterion = nn.CrossEntropyLoss()\n",
        "optimizer = optim.SGD(model.parameters(), lr=0.001, momentum=0.9)\n",
        "\n",
        "print(f\"INFO: Starting training for {NUM_EPOCHS} epochs...\")\n",
        "\n",
        "# --- 5. Training and Validation Loop ---\n",
        "for epoch in range(NUM_EPOCHS):\n",
        "    # Training phase\n",
        "    model.train()\n",
        "    for inputs, targets in tqdm(train_loader, desc=f\"Epoch {epoch + 1}/{NUM_EPOCHS} [Train]\"):\n",
        "        inputs, targets = inputs.to(device), targets.to(device).squeeze().long()\n",
        "        optimizer.zero_grad()\n",
        "        outputs = model(inputs)\n",
        "        loss = criterion(outputs, targets)\n",
        "        loss.backward()\n",
        "        optimizer.step()\n",
        "\n",
        "    # Validation phase\n",
        "    model.eval()\n",
        "    y_true_val, y_score_val = [], []\n",
        "    with torch.no_grad():\n",
        "        for inputs, targets in val_loader:\n",
        "            inputs = inputs.to(device)\n",
        "            outputs = model(inputs)\n",
        "            y_true_val.extend(targets.squeeze().tolist())\n",
        "            y_score_val.extend(outputs.softmax(dim=-1).cpu().numpy())\n",
        "\n",
        "    # convert the list of arrays into a single NumPy array\n",
        "    y_score_val = np.vstack(y_score_val)\n",
        "\n",
        "    # Calculate validation metrics\n",
        "    val_evaluator = Evaluator(data_flag, 'val')\n",
        "    metrics = val_evaluator.evaluate(y_score_val)\n",
        "    print(f\"Epoch {epoch + 1}/{NUM_EPOCHS} - Validation AUC: {metrics[0]:.3f}, Accuracy: {metrics[1]:.3f}\")\n",
        "\n",
        "print(\"\\nINFO: Training complete!\")\n",
        "\n",
        "# --- 6. Final Evaluation on Test Set ---\n",
        "print(\"INFO: Evaluating model on the final test set...\")\n",
        "model.eval()\n",
        "y_true_test, y_score_test = [], []\n",
        "with torch.no_grad():\n",
        "    for inputs, targets in tqdm(test_loader, desc=\"[Test]\"):\n",
        "        inputs = inputs.to(device)\n",
        "        outputs = model(inputs)\n",
        "        y_true_test.extend(targets.squeeze().tolist())\n",
        "        y_score_test.extend(outputs.softmax(dim=-1).cpu().numpy())\n",
        "\n",
        "y_score_test = np.vstack(y_score_test)\n",
        "\n",
        "# Calculate final test metrics\n",
        "test_evaluator = Evaluator(data_flag, 'test')\n",
        "test_auc, test_acc = test_evaluator.evaluate(y_score_test)\n",
        "\n",
        "print(\"-\" * 30)\n",
        "print(f\"Final Test Results for ResNet-18:\")\n",
        "print(f\"Test AUC: {test_auc:.3f}\")\n",
        "print(f\"Test Accuracy: {test_acc:.3f}\")\n",
        "print(\"-\" * 30)"
      ]
    }
  ]
}